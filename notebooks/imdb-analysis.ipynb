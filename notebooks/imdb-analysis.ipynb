{
 "cells": [
  {
   "cell_type": "markdown",
   "metadata": {
    "pycharm": {
     "name": "#%% md\n"
    }
   },
   "source": [
    "## Introdução\n",
    "TODO\n",
    "\n",
    "## Módulos Necessários\n",
    "TODO\n",
    "\n",
    "## Leitura dos Dados\n",
    "TODO\n",
    "\n",
    "## Processamento de Textos\n",
    "TODO\n",
    "\n",
    "## Representação em Vetores\n",
    "TODO\n",
    "\n",
    "## _k-Fold Cross Validation_\n",
    "TODO\n",
    "\n",
    "## Treino dos Modelos\n",
    "TODO\n",
    "\n",
    "## Validação dos Modelos\n",
    "TODO"
   ]
  }
 ],
 "metadata": {
  "kernelspec": {
   "display_name": "Python 3",
   "language": "python",
   "name": "python3"
  },
  "language_info": {
   "codemirror_mode": {
    "name": "ipython",
    "version": 3
   },
   "file_extension": ".py",
   "mimetype": "text/x-python",
   "name": "python",
   "nbconvert_exporter": "python",
   "pygments_lexer": "ipython3",
   "version": "3.8.1"
  },
  "pycharm": {
   "stem_cell": {
    "cell_type": "raw",
    "metadata": {
     "collapsed": false
    },
    "source": []
   }
  }
 },
 "nbformat": 4,
 "nbformat_minor": 4
}
